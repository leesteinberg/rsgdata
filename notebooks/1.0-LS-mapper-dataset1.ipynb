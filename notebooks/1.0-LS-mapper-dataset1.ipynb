{
 "cells": [
  {
   "cell_type": "markdown",
   "metadata": {},
   "source": [
    "#### Initialisations"
   ]
  },
  {
   "cell_type": "code",
   "execution_count": 1,
   "metadata": {},
   "outputs": [],
   "source": [
    "%load_ext autoreload\n",
    "%autoreload 2\n",
    "import numpy as np\n",
    "import kmapper as km\n",
    "from kmapper import Cover\n",
    "from sklearn.decomposition import PCA\n",
    "import matplotlib.pyplot as plt\n",
    "%matplotlib inline"
   ]
  },
  {
   "cell_type": "markdown",
   "metadata": {},
   "source": [
    "# Mapper on Data Set 1\n",
    "\n",
    "Using a 2D PCA lens, default clusterer \n",
    "\n",
    "`clusterer=DBSCAN(algorithm='auto', eps=0.5, leaf_size=30, metric='euclidean', metric_params=None, min_samples=3, n_jobs=None, p=None)`"
   ]
  },
  {
   "cell_type": "code",
   "execution_count": 2,
   "metadata": {},
   "outputs": [
    {
     "name": "stdout",
     "output_type": "stream",
     "text": [
      "KeplerMapper()\n",
      "..Composing projection pipeline of length 1:\n",
      "\tProjections: PCA(copy=True, iterated_power='auto', n_components=2, random_state=None,\n",
      "    svd_solver='auto', tol=0.0, whiten=False)\n",
      "\tDistance matrices: False\n",
      "\tScalers: MinMaxScaler(copy=True, feature_range=(0, 1))\n",
      "..Projecting on data shaped (350, 3)\n",
      "\n",
      "..Projecting data using: \n",
      "\tPCA(copy=True, iterated_power='auto', n_components=2, random_state=None,\n",
      "    svd_solver='auto', tol=0.0, whiten=False)\n",
      "\n",
      "\n",
      "..Scaling with: MinMaxScaler(copy=True, feature_range=(0, 1))\n",
      "\n"
     ]
    },
    {
     "data": {
      "image/png": "[encoded data removed]",
      "text/plain": [
       "<Figure size 432x288 with 1 Axes>"
      ]
     },
     "metadata": {
      "needs_background": "light"
     },
     "output_type": "display_data"
    }
   ],
   "source": [
    "# Load data\n",
    "data = np.loadtxt('../data/dataset1.csv', delimiter=',')\n",
    "\n",
    "# Create lens\n",
    "mapper = km.KeplerMapper(verbose=1)\n",
    "lens = mapper.fit_transform(data, projection=PCA(n_components=2))\n",
    "\n",
    "fig = plt.figure()\n",
    "ax = fig.add_subplot(111)\n",
    "ax.scatter(lens[:,0], lens[:,1])\n",
    "plt.show()"
   ]
  },
  {
   "cell_type": "code",
   "execution_count": 3,
   "metadata": {},
   "outputs": [
    {
     "name": "stdout",
     "output_type": "stream",
     "text": [
      "Mapping on data shaped (350, 3) using lens shaped (350, 2)\n",
      "\n",
      "Creating 400 hypercubes.\n",
      "\n",
      "Created 217 edges and 117 nodes in 0:00:00.077808.\n"
     ]
    }
   ],
   "source": [
    "n_cubes = 20\n",
    "perc_overlap = 0.4\n",
    "cover=Cover(n_cubes=n_cubes, perc_overlap=perc_overlap, limits=None, verbose=0)\n",
    "network = mapper.map(lens, data, cover=cover)"
   ]
  },
  {
   "cell_type": "code",
   "execution_count": 4,
   "metadata": {},
   "outputs": [
    {
     "name": "stdout",
     "output_type": "stream",
     "text": [
      "Wrote visualization to: mappernetworks/dataset1_pca.html\n"
     ]
    }
   ],
   "source": [
    "_ = mapper.visualize(network, path_html='mappernetworks/dataset1_pca.html')"
   ]
  },
  {
   "cell_type": "markdown",
   "metadata": {},
   "source": [
    "Using the x component as the lens"
   ]
  },
  {
   "cell_type": "code",
   "execution_count": 5,
   "metadata": {},
   "outputs": [],
   "source": [
    "lens = data[:,0]"
   ]
  },
  {
   "cell_type": "code",
   "execution_count": 6,
   "metadata": {},
   "outputs": [
    {
     "name": "stdout",
     "output_type": "stream",
     "text": [
      "Mapping on data shaped (350, 3) using lens shaped (350,)\n",
      "\n",
      "Creating 20 hypercubes.\n",
      "\n",
      "Created 52 edges and 51 nodes in 0:00:00.020784.\n"
     ]
    }
   ],
   "source": [
    "n_cubes = 20\n",
    "perc_overlap = 0.4\n",
    "cover=Cover(n_cubes=n_cubes, perc_overlap=perc_overlap, limits=None, verbose=0)\n",
    "network = mapper.map(lens, data, cover=cover)"
   ]
  },
  {
   "cell_type": "code",
   "execution_count": 7,
   "metadata": {},
   "outputs": [
    {
     "name": "stdout",
     "output_type": "stream",
     "text": [
      "Wrote visualization to: mappernetworks/dataset1_x.html\n"
     ]
    }
   ],
   "source": [
    "_ = mapper.visualize(network, path_html='mappernetworks/dataset1_x.html')"
   ]
  },
  {
   "cell_type": "code",
   "execution_count": null,
   "metadata": {},
   "outputs": [],
   "source": []
  }
 ],
 "metadata": {
  "kernelspec": {
   "display_name": "Python [conda env:rsgdata]",
   "language": "python",
   "name": "conda-env-rsgdata-py"
  },
  "language_info": {
   "codemirror_mode": {
    "name": "ipython",
    "version": 3
   },
   "file_extension": ".py",
   "mimetype": "text/x-python",
   "name": "python",
   "nbconvert_exporter": "python",
   "pygments_lexer": "ipython3",
   "version": "3.7.3"
  }
 },
 "nbformat": 4,
 "nbformat_minor": 2
}
